{
 "cells": [
  {
   "cell_type": "markdown",
   "metadata": {
    "id": "zOoTuzbPObot"
   },
   "source": [
    "\n",
    "The following tutorial is an extension from the analysis code used in [ref](https://mne.tools/0.18/auto_tutorials/sample-datasets/plot_sleep.html)"
   ]
  },
  {
   "cell_type": "markdown",
   "metadata": {
    "id": "tTo1mYxsqV0O"
   },
   "source": [
    "# Research Question\n",
    "\n",
    "\n",
    "Given two subjects from the Sleep Physionet dataset, namely Alice and Bob, how well can we predict the sleep stages of Bob from Alice's data?\n",
    "\n",
    "This problem is tackled as supervised multiclass classification task. The aim\n",
    "is to predict the sleep stage from 5 possible stages for each chunk of 30\n",
    "seconds of data."
   ]
  },
  {
   "cell_type": "markdown",
   "metadata": {
    "id": "HKml4Y8GrX7w"
   },
   "source": [
    "# Initial Setup"
   ]
  },
  {
   "cell_type": "code",
   "execution_count": null,
   "metadata": {
    "colab": {
     "base_uri": "https://localhost:8080/"
    },
    "id": "NaT3b4OgsGBg",
    "outputId": "ab2ff969-d173-4938-fd74-224880202d5f"
   },
   "outputs": [],
   "source": [
    " !pip freeze # Preinstall package"
   ]
  },
  {
   "cell_type": "code",
   "execution_count": null,
   "metadata": {
    "colab": {
     "base_uri": "https://localhost:8080/"
    },
    "id": "YfO4tA6bOzOv",
    "outputId": "89882f20-5181-4a30-ff41-c48f630f50f1"
   },
   "outputs": [],
   "source": [
    "pip install mne_features"
   ]
  },
  {
   "cell_type": "code",
   "execution_count": null,
   "metadata": {
    "id": "ifqvoI5pNVQK"
   },
   "outputs": [],
   "source": [
    "import matplotlib.pyplot as plt\n",
    "import numpy as np\n",
    "\n",
    "import mne\n",
    "#from mne.datasets.sleep_physionet.age import fetch_data\n",
    "from mne.decoding import (Vectorizer)\n",
    "\n",
    "from mne_features.feature_extraction import FeatureExtractor  # Take some time because of Numba\n",
    "from mne_features.feature_extraction import extract_features\n",
    "\n",
    "from sklearn.ensemble import RandomForestClassifier\n",
    "from sklearn.metrics import accuracy_score\n",
    "from sklearn.metrics import classification_report\n",
    "from sklearn.metrics import confusion_matrix\n",
    "from sklearn.pipeline import make_pipeline"
   ]
  },
  {
   "cell_type": "code",
   "execution_count": null,
   "metadata": {
    "id": "4F51PQaJDrKg"
   },
   "outputs": [],
   "source": [
    "# from mne_features.utils import (_idxiter, power_spectrum, _embed, _get_feature_funcs,\n",
    "#                     _get_feature_func_names, _psd_params_checker)\n"
   ]
  },
  {
   "cell_type": "code",
   "execution_count": null,
   "metadata": {
    "id": "1oEQKf_zEK1-"
   },
   "outputs": [],
   "source": [
    "# print(_get_feature_func_names(__name__))"
   ]
  },
  {
   "cell_type": "markdown",
   "metadata": {
    "id": "BXzuoNchO9OV"
   },
   "source": [
    "# Load the data\n",
    "------------\n",
    "\n",
    "\n",
    "\n",
    "1.   Download sleep data from Sleep Physionet Dataset\n",
    "2.   Read the downloaded file as raw\n",
    "3.   Extract the annotation from the raw file\n",
    "4.   Create epochs of 30 sec from the continous signal"
   ]
  },
  {
   "cell_type": "code",
   "execution_count": null,
   "metadata": {
    "id": "88qhoQFxPzeU"
   },
   "outputs": [],
   "source": [
    "event_id = {\n",
    "    'Sleep stage W': 1,\n",
    "    'Sleep stage 1': 2,\n",
    "    'Sleep stage 2': 3,\n",
    "    'Sleep stage 3': 4,\n",
    "    'Sleep stage 4': 4,\n",
    "    'Sleep stage R': 5}\n",
    "\n",
    "dataPath = ['sleep_cassette/SC4001E0-PSG.edf', 'sleep_cassette/SC4011E0-PSG.edf'] #Alice, Bob\n",
    "annoPath = ['sleep_cassette/SC4001EC-Hypnogram.edf', 'sleep_cassette/SC4011EH-Hypnogram.edf']\n",
    "\n",
    "def some_operation(dpath,aPath):\n",
    "\n",
    "    # Read the PSG data\n",
    "    raw = mne.io.read_raw_edf(dpath, stim_channel='marker', misc=['rectal'])\n",
    "\n",
    "    # Select only EEG\n",
    "    raw.drop_channels(['EOG horizontal', 'Resp oro-nasal', 'EMG submental', 'Temp rectal', 'Event marker'])\n",
    "\n",
    "    scalings = dict(eeg=40e-5)\n",
    "    raw.plot(duration=60,scalings=scalings,remove_dc=False)\n",
    "    tmax = 30. - 1. / raw.info['sfreq']  # Epoch size\n",
    "    # print(tmax)\n",
    "\n",
    "    # Extract the annotation from the raw file\n",
    "    annot = mne.read_annotations(aPath)\n",
    "    annot.crop(annot[1]['onset'] - 30 * 60, annot[-2]['onset'] + 30 * 60)\n",
    "\n",
    "    raw.set_annotations(annot, emit_warning=False)\n",
    "    events, _ = mne.events_from_annotations(raw,event_id=event_id,chunk_duration=30.)\n",
    "    # u, indices = np.unique(annot['description'], return_index=True)\n",
    "\n",
    "    # Create epochs of 30 sec from the continous signal\n",
    "    epochs = mne.Epochs(raw=raw,\n",
    "                        events=events,\n",
    "                        event_id=event_id,\n",
    "                        tmin=0.,\n",
    "                        tmax=tmax,\n",
    "                        baseline=None)\n",
    "\n",
    "    return epochs"
   ]
  },
  {
   "cell_type": "code",
   "execution_count": null,
   "metadata": {
    "colab": {
     "base_uri": "https://localhost:8080/",
     "height": 1000
    },
    "id": "cEywZPEYa-B7",
    "outputId": "2db3d2e5-cb45-40eb-a028-f313a3b3261f"
   },
   "outputs": [],
   "source": [
    "# Read the PSG data and Hypnograms to create a raw object\n",
    "epochs_alice = some_operation(dataPath[0],annoPath[0])\n",
    "epochs_bob = some_operation(dataPath[1],annoPath[1])"
   ]
  },
  {
   "cell_type": "code",
   "execution_count": null,
   "metadata": {
    "colab": {
     "base_uri": "https://localhost:8080/",
     "height": 254
    },
    "id": "cwzcK62gutzd",
    "outputId": "0c3b9cfc-f41d-4368-dd95-66ab3f0f82cc"
   },
   "outputs": [],
   "source": [
    "# print(epochs_alice)\n",
    "epochs_alice.info"
   ]
  },
  {
   "cell_type": "markdown",
   "metadata": {
    "id": "f6-wEmkZbM5P"
   },
   "source": [
    "# Power Spectral Density\n",
    "\n",
    "   Visualize Alice vs. Bob PSD by sleep stage.\n"
   ]
  },
  {
   "cell_type": "code",
   "execution_count": null,
   "metadata": {
    "colab": {
     "base_uri": "https://localhost:8080/",
     "height": 1000
    },
    "id": "0zNYYdc1bFxK",
    "outputId": "e102264b-39f4-4b57-b8ca-dd0b607399f2"
   },
   "outputs": [],
   "source": [
    "stage_colors = plt.rcParams['axes.prop_cycle'].by_key()['color']\n",
    "\n",
    "fig, (ax1, ax2) = plt.subplots(ncols=2,figsize=(15,6))\n",
    "\n",
    "# # iterate over the subjects\n",
    "stages = sorted(event_id.keys())\n",
    "for ax, title, epochs in zip([ax1, ax2],['Alice', 'Bob'],[epochs_alice,epochs_bob]):\n",
    "    for stage, color in zip(stages, stage_colors):\n",
    "        epochs[stage].plot_psd(area_mode=None, color=color, ax=ax,fmin=0.1, fmax=40., \n",
    "                               show=False,average=True, spatial_colors=False)\n",
    "    ax.set(title=title, xlabel='Frequency (Hz)')\n",
    "    \n",
    "ax1.set(ylabel='µV^2/Hz (dB)')    \n",
    "ax2.set(ylabel='µV^2/Hz (dB)')\n",
    "ax2.legend(ax2.lines[2::3], stages)\n",
    "plt.tight_layout()\n",
    "plt.show()"
   ]
  },
  {
   "cell_type": "markdown",
   "metadata": {
    "id": "WbMs4zuR4UBL"
   },
   "source": [
    "# Feature Engineering\n",
    "\n",
    "The rest of this section we will create EEG features based on relative power\n",
    "in specific frequency bands to capture this difference between the sleep\n",
    "stages in our data."
   ]
  },
  {
   "cell_type": "markdown",
   "metadata": {
    "id": "DoqdpfDb8M8y"
   },
   "source": [
    "## Custom Function "
   ]
  },
  {
   "cell_type": "code",
   "execution_count": null,
   "metadata": {
    "id": "jVw5o06N8Kwq"
   },
   "outputs": [],
   "source": [
    "def eeg_power_band(epochs):\n",
    "    \"\"\"EEG relative power band feature extraction.\n",
    "\n",
    "    This function takes an ``mne.Epochs`` object and creates EEG features based\n",
    "    on relative power in specific frequency bands that are compatible with\n",
    "    scikit-learn.\n",
    "\n",
    "    Parameters\n",
    "    ----------\n",
    "    epochs : Epochs\n",
    "        The data.\n",
    "\n",
    "    Returns\n",
    "    -------\n",
    "    X : numpy array of shape [n_samples, 5]\n",
    "        Transformed data.\n",
    "    \"\"\"\n",
    "    # specific frequency bands\n",
    "    FREQ_BANDS = {\"delta\": [0.5, 4.5],\n",
    "                  \"theta\": [4.5, 8.5],\n",
    "                  \"alpha\": [8.5, 11.5],\n",
    "                  \"sigma\": [11.5, 15.5],\n",
    "                  \"beta\": [15.5, 30]}\n",
    "\n",
    "    psds, freqs = mne.time_frequency.psd_welch(epochs, picks='eeg', fmin=0.5, fmax=30.)\n",
    "    \n",
    "    # Normalize the PSDs\n",
    "    psds /= np.sum(psds, axis=-1, keepdims=True)\n",
    "\n",
    "    X = []\n",
    "    for fmin, fmax in FREQ_BANDS.values():\n",
    "        psds_band = psds[:, :, (freqs >= fmin) & (freqs < fmax)].mean(axis=-1)\n",
    "        X.append(psds_band.reshape(len(psds), -1))\n",
    "\n",
    "    return np.concatenate(X, axis=1)"
   ]
  },
  {
   "cell_type": "markdown",
   "metadata": {
    "id": "A5HoWHjj8bDH"
   },
   "source": [
    "## Feature Extracted From mne-feature"
   ]
  },
  {
   "cell_type": "code",
   "execution_count": null,
   "metadata": {
    "id": "6nB7ZfkO9HYc"
   },
   "outputs": [],
   "source": [
    "def eeg_power_band(epochs):\n",
    "    \"\"\"EEG relative power band feature extraction.\n",
    "\n",
    "  This function takes an ``mne.Epochs`` object and creates EEG features based\n",
    "  on relative power in specific frequency bands that are compatible with\n",
    "  scikit-learn.\n",
    "\n",
    "  Parameters\n",
    "  ----------\n",
    "  epochs : Epochs\n",
    "      The data.\n",
    "\n",
    "  Returns\n",
    "  -------\n",
    "  X : numpy array of shape [n_samples, 5]\n",
    "      Transformed data.\n",
    "  \"\"\"\n",
    "    # specific frequency bands\n",
    "    FREQ_BANDS = {\n",
    "        \"delta\": [0.5, 4.5],\n",
    "        \"theta\": [4.5, 8.5],\n",
    "        \"alpha\": [8.5, 11.5],\n",
    "        \"sigma\": [11.5, 15.5],\n",
    "        \"beta\": [15.5, 30]\n",
    "    }\n",
    "\n",
    "    #\n",
    "    selected_features = ['pow_freq_bands']\n",
    "\n",
    "    freq_bands = np.unique(\n",
    "        np.concatenate(list(map(list, (FREQ_BANDS.values())))))\n",
    "\n",
    "    funcs_params = dict(pow_freq_bands__normalize=False,\n",
    "                        pow_freq_bands__ratios='all',\n",
    "                        pow_freq_bands__psd_method='fft',\n",
    "                        pow_freq_bands__freq_bands=freq_bands)\n",
    "\n",
    "    sfreq = epochs.info['sfreq']\n",
    "    features_all = extract_features(epochs.get_data(),\n",
    "                                    sfreq,\n",
    "                                    selected_funcs=selected_features,\n",
    "                                    return_as_df=True,\n",
    "                                    funcs_params=funcs_params)\n",
    "\n",
    "    return features_all.to_numpy()"
   ]
  },
  {
   "cell_type": "markdown",
   "metadata": {
    "id": "3XOqciq9FLbA"
   },
   "source": [
    "List of feature\n",
    "\n",
    "\n",
    "\n",
    "1.   Bivariate\n",
    "\n",
    "\n",
    "* max_cross_correlation, \n",
    "* Maximum linear cross-correlation, \n",
    "* Phase Locking Value, \n",
    "* Measure of nonlinear interdependence, \n",
    "* Correlation Coefficients, \n",
    "* Correlation Coefficients\n",
    "\n",
    "2.   Univariate\n",
    "\n",
    "* Slope of a 1D least-squares regression, \n",
    "* Mean of the data (per channel), \n",
    "* Variance of the data (per channel), \n",
    "* Standard deviation of the data, \n",
    "* Peak-to-peak (PTP) amplitude of the data (per channel), \n",
    "* Skewness of the data (per channel), \n",
    "* Kurtosis of the data (per channel), \n",
    "* Root-mean squared value of the data (per channel), \n",
    "* Quantile of the data (per channel), \n",
    "* Hurst exponent of the data (per channel),\n",
    "* Approximate Entropy (AppEn, per channel),\n",
    "* Sample Entropy (SampEn, per channel), \n",
    "* Decorrelation time (per channel),\n",
    "* Power Spectrum (computed by frequency bands), \n",
    "* Hjorth mobility (per channel),\n",
    "* Hjorth complexity (per channel), \n",
    "* Hjorth mobility (per channel), \n",
    "* Hjorth complexity (per channel), \n",
    "* Higuchi Fractal Dimension (per channel), \n",
    "* Katz Fractal Dimension (per channel), \n",
    "* Number of zero-crossings (per channel), \n",
    "* Line length (per channel), \n",
    "* Spectral Entropy (per channel), \n",
    "* SVD entropy (per channel), \n",
    "* Linear regression of the the log-log frequency-curve (per channel), \n",
    "SVD Fisher Information (per channel), \n",
    "* Band energy (per channel), \n",
    "* Spectal Edge Frequency (per channel), \n",
    "* Energy of Wavelet decomposition coefficients (per channel)"
   ]
  },
  {
   "cell_type": "markdown",
   "metadata": {
    "id": "b4jbVZIX9vzV"
   },
   "source": [
    "# Multiclass classification workflow using scikit-learn and mne-feature\n",
    "\n",
    "- `Pipeline`\n",
    "\n",
    "is just an abstract notion, it's not some existing ml algorithm. Often in ML tasks you need to perform sequence of different transformations (find set of features, generate new features, select only some good features) of raw dataset before applying final estimator.\n",
    "\n",
    "- `FunctionTransformer`\n",
    "\n",
    "some class that have fit and transform method, or fit_transform method.\n",
    "- `eeg_power_band`\n",
    "\n"
   ]
  },
  {
   "cell_type": "markdown",
   "metadata": {
    "id": "qx1L8wk5sOld"
   },
   "source": [
    "## Custom function approach"
   ]
  },
  {
   "cell_type": "code",
   "execution_count": null,
   "metadata": {
    "colab": {
     "base_uri": "https://localhost:8080/"
    },
    "id": "8xU5Z0A59ygx",
    "outputId": "c711c4bd-3a39-47a8-f1d7-a0e23682ae05"
   },
   "outputs": [],
   "source": [
    "from sklearn.preprocessing import FunctionTransformer\n",
    "import warnings\n",
    "warnings.simplefilter(action='ignore', category=FutureWarning)\n",
    "\n",
    "\n",
    "# Pipeline\n",
    "# FunctionTransformer\n",
    "\n",
    "\"\"\"\n",
    "1) Extract Feature from the eeg_power_band\n",
    "2) fit and predict method using random forest\n",
    "\"\"\"\n",
    "\n",
    "pipe = make_pipeline(FunctionTransformer(eeg_power_band, validate=False),RandomForestClassifier(n_estimators=100, random_state=42))\n",
    "\n",
    "\n",
    "epochs_train,epochs_test=epochs_alice,epochs_bob\n",
    "y_train = epochs_alice.events[:, 2]\n",
    "pipe.fit(epochs_alice, y_train)\n",
    "\n",
    "# Test\n",
    "y_pred = pipe.predict(epochs_bob)\n",
    "# epochs.get_data ()\n",
    "# Assess the results\n",
    "\n",
    "\n",
    "y_test = epochs_bob.events[:, 2]\n",
    "acc = accuracy_score(y_test, y_pred)\n",
    "\n",
    "print(\"Accuracy score: {}\".format(acc))\n",
    "# Further analysis of the data\n",
    "# ~~~~~~~~~~~~~~~~~~~~~~~~~~~~~\n",
    "# We can check the confusion matrix or the classification report.\n",
    "\n",
    "print(confusion_matrix(y_test, y_pred))\n",
    "\n",
    "##############################################################################\n",
    "\n",
    "print(classification_report(y_test, y_pred,target_names={'Sleep stage W': 1,\n",
    "  'Sleep stage 1': 2,\n",
    "  'Sleep stage 2': 3,\n",
    "  'Sleep stage 3/4': 4,\n",
    "  'Sleep stage R': 5}))"
   ]
  },
  {
   "cell_type": "markdown",
   "metadata": {
    "id": "GOKXPuKne5b-"
   },
   "source": [
    "## FeatureExtractor Approach"
   ]
  },
  {
   "cell_type": "code",
   "execution_count": null,
   "metadata": {
    "id": "Ra2LaZHB0zsy"
   },
   "outputs": [],
   "source": [
    "FREQ_BANDS = {\"delta\": [0.5, 4.5],\"theta\": [4.5, 8.5],\"alpha\": [8.5, 11.5], \"sigma\": [11.5, 15.5],\"beta\": [15.5, 30]}\n",
    "\n",
    "\n",
    "selected_features = ['pow_freq_bands']\n",
    "\n",
    "freq_bands=np.unique(np.concatenate(list(map(list, (FREQ_BANDS.values())))))\n",
    "\n",
    "# raw_testx = mne.io.read_raw_edf(all_data[0][0], stim_channel='marker',misc=['rectal'])\n",
    "# sfreq=raw_testx.info['sfreq']\n",
    "\n",
    "sfreq=100"
   ]
  },
  {
   "cell_type": "code",
   "execution_count": null,
   "metadata": {
    "colab": {
     "base_uri": "https://localhost:8080/"
    },
    "id": "5Y4ExsrEfEFM",
    "outputId": "727a040d-d6ce-4834-e852-96af60087673"
   },
   "outputs": [],
   "source": [
    "# from mne_features.feature_extraction import FeatureExtractor  # Take some time because of Numba\n",
    "\n",
    "# selected_funcs = ['line_length', 'kurtosis', 'ptp_amp', 'skewness','pow_freq_bands']\n",
    "from sklearn.pipeline import Pipeline\n",
    "selected_funcs = ['pow_freq_bands']\n",
    "funcs_params = dict ( pow_freq_bands__normalize=False,\n",
    "                     pow_freq_bands__ratios='all',\n",
    "                     pow_freq_bands__psd_method='fft',\n",
    "                     pow_freq_bands__freq_bands=freq_bands)\n",
    "\n",
    "\n",
    "\n",
    "# FeatureExtractor >> function under mne-feature\n",
    "pipe = make_pipeline( FeatureExtractor(sfreq=sfreq,params=funcs_params,\n",
    "                                       selected_funcs=selected_funcs),\n",
    "                    Vectorizer(),\n",
    "                    RandomForestClassifier(n_estimators=100, random_state=42))\n",
    "\n",
    "\n",
    "\n",
    "# epochs_train,epochs_test=epochs_alice,epochs_bob\n",
    "pipe.fit(epochs_alice.get_data (), epochs_alice.events[:, 2])\n",
    "\n",
    "# Test\n",
    "y_pred = pipe.predict(epochs_bob.get_data ())\n",
    "\n",
    "# Assess the results\n",
    "y_test = epochs_bob.events[:, 2]\n",
    "acc = accuracy_score(y_test, y_pred)\n",
    "\n",
    "print(\"Accuracy score: {}\".format(acc))\n",
    "# Further analysis of the data\n",
    "# ~~~~~~~~~~~~~~~~~~~~~~~~~~~~~\n",
    "# We can check the confusion matrix or the classification report.\n",
    "\n",
    "print(confusion_matrix(y_test, y_pred))\n",
    "\n",
    "\n",
    "print(classification_report(y_test, y_pred,target_names={'Sleep stage W': 1,\n",
    "                                                          'Sleep stage 1': 2,\n",
    "                                                          'Sleep stage 2': 3,\n",
    "                                                          'Sleep stage 3/4': 4,\n",
    "                                                          'Sleep stage R': 5}))"
   ]
  },
  {
   "cell_type": "code",
   "execution_count": null,
   "metadata": {
    "id": "B7vHIxjNR4sg"
   },
   "outputs": [],
   "source": [
    "# pipe = Pipeline([('fe', FeatureExtractor(sfreq=sfreq,params=funcs_params,\n",
    "#                                        selected_funcs=selected_funcs)),('vectorise',Vectorizer()),('clf',  RandomForestClassifier(n_estimators=100, random_state=42))])\n"
   ]
  }
 ],
 "metadata": {
  "colab": {
   "name": "sleep_staging_bob_alice",
   "provenance": []
  },
  "kernelspec": {
   "display_name": "Python 3 (ipykernel)",
   "language": "python",
   "name": "python3"
  },
  "language_info": {
   "codemirror_mode": {
    "name": "ipython",
    "version": 3
   },
   "file_extension": ".py",
   "mimetype": "text/x-python",
   "name": "python",
   "nbconvert_exporter": "python",
   "pygments_lexer": "ipython3",
   "version": "3.9.7"
  },
  "toc": {
   "base_numbering": 1,
   "nav_menu": {},
   "number_sections": true,
   "sideBar": true,
   "skip_h1_title": false,
   "title_cell": "Table of Contents",
   "title_sidebar": "Contents",
   "toc_cell": false,
   "toc_position": {},
   "toc_section_display": true,
   "toc_window_display": true
  },
  "varInspector": {
   "cols": {
    "lenName": 16,
    "lenType": 16,
    "lenVar": 40
   },
   "kernels_config": {
    "python": {
     "delete_cmd_postfix": "",
     "delete_cmd_prefix": "del ",
     "library": "var_list.py",
     "varRefreshCmd": "print(var_dic_list())"
    },
    "r": {
     "delete_cmd_postfix": ") ",
     "delete_cmd_prefix": "rm(",
     "library": "var_list.r",
     "varRefreshCmd": "cat(var_dic_list()) "
    }
   },
   "position": {
    "height": "499.85px",
    "left": "22.2px",
    "right": "20px",
    "top": "458px",
    "width": "350px"
   },
   "types_to_exclude": [
    "module",
    "function",
    "builtin_function_or_method",
    "instance",
    "_Feature"
   ],
   "window_display": true
  }
 },
 "nbformat": 4,
 "nbformat_minor": 1
}
